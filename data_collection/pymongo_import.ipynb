{
 "cells": [
  {
   "cell_type": "code",
   "execution_count": 1,
   "id": "5e4c7b42",
   "metadata": {},
   "outputs": [],
   "source": [
    "%autosave 0\n",
    "# this disables autosave for instructor solutions\n",
    "# if a student makes changes to the instructor solutions then the instructor pushes updates this can cause a git conflict"
   ]
  },
  {
   "cell_type": "markdown",
   "id": "6607ba1a",
   "metadata": {},
   "source": [
    "# Import CSV Data Into PyMongo"
   ]
  },
  {
   "cell_type": "code",
   "execution_count": 26,
   "id": "1fce4f22",
   "metadata": {},
   "outputs": [],
   "source": [
    "from pymongo import MongoClient\n",
    "import csv\n",
    "from pprint import pprint\n",
    "from datetime import datetime\n",
    "from flask import jsonify"
   ]
  },
  {
   "cell_type": "code",
   "execution_count": 2,
   "id": "9dc8826d",
   "metadata": {},
   "outputs": [],
   "source": [
    "# Create an instance of MongoClient\n",
    "mongo = MongoClient(port=27017)"
   ]
  },
  {
   "cell_type": "code",
   "execution_count": 3,
   "id": "60ebdfc9",
   "metadata": {},
   "outputs": [
    {
     "name": "stdout",
     "output_type": "stream",
     "text": [
      "['admin', 'autosaurus', 'classDB', 'config', 'electric_charging', 'epa', 'fruits_db', 'gardenDB', 'local', 'met', 'petsitly_marketing', 'travel_db', 'uk_food']\n"
     ]
    }
   ],
   "source": [
    "# confirm that our new database was created\n",
    "print(mongo.list_database_names())"
   ]
  },
  {
   "cell_type": "code",
   "execution_count": 4,
   "id": "3cab0c81",
   "metadata": {},
   "outputs": [],
   "source": [
    "# assign the database to a variable name\n",
    "db = mongo['electric_charging']\n",
    "stations = db['stations']"
   ]
  },
  {
   "cell_type": "code",
   "execution_count": 5,
   "id": "3f57b567",
   "metadata": {},
   "outputs": [
    {
     "name": "stdout",
     "output_type": "stream",
     "text": [
      "['stations']\n"
     ]
    }
   ],
   "source": [
    "# review the collections in our new database\n",
    "print(db.list_collection_names())"
   ]
  },
  {
   "cell_type": "code",
   "execution_count": 18,
   "id": "160a59d6-058b-4acc-a954-459434d9f73d",
   "metadata": {},
   "outputs": [
    {
     "data": {
      "text/plain": [
       "{'nIndexesWas': 1, 'ns': 'electric_charging.stations', 'ok': 1.0}"
      ]
     },
     "execution_count": 18,
     "metadata": {},
     "output_type": "execute_result"
    }
   ],
   "source": [
    "db.drop_collection('stations')"
   ]
  },
  {
   "cell_type": "code",
   "execution_count": 19,
   "id": "53f40ec1-358c-420b-b5e5-e917eb52d042",
   "metadata": {},
   "outputs": [],
   "source": [
    "with open('test_data.csv', 'r', encoding='utf-8-sig') as file:\n",
    "    csv_reader = csv.DictReader(file)\n",
    "    for row in csv_reader:\n",
    "        station = {k: v for k, v in row.items() if v}\n",
    "        \n",
    "        if 'Station Phone' in station:\n",
    "            station['Station Phone'] = row['Station Phone'].split()\n",
    "        if 'EV Connector Types' in station:\n",
    "            station['EV Connector Types'] = station['EV Connector Types'].split()\n",
    "            \n",
    "        open_date = datetime.strptime(station['Open Date'], \"%m/%d/%Y\")\n",
    "        last_confirmed = datetime.strptime(station['Date Last Confirmed'], \"%m/%d/%Y\")\n",
    "        station['Open Date'] = open_date.strftime(\"%Y-%m-%d\")\n",
    "        station['Date Last Confirmed'] = last_confirmed.strftime(\"%Y-%m-%d\")\n",
    "        \n",
    "        stations.insert_one(station)"
   ]
  },
  {
   "cell_type": "code",
   "execution_count": 20,
   "id": "6360d848",
   "metadata": {},
   "outputs": [
    {
     "name": "stdout",
     "output_type": "stream",
     "text": [
      "{'Access Days Time': '5:30am-9pm; pay lot',\n",
      " 'City': 'Los Angeles',\n",
      " 'Date Last Confirmed': '2023-01-10',\n",
      " 'EV Connector Types': ['J1772'],\n",
      " 'EV Level2 EVSE Num': '7',\n",
      " 'EV Pricing': 'Free; parking fee',\n",
      " 'Facility Type': 'PARKING_GARAGE',\n",
      " 'Latitude': '34.040539',\n",
      " 'Longitude': '-118.271387',\n",
      " 'Open Date': '1995-08-30',\n",
      " 'Owner Type Code': 'P',\n",
      " 'State': 'CA',\n",
      " 'Station Name': 'Los Angeles Convention Center',\n",
      " 'Station Phone': ['213-741-1151'],\n",
      " 'Street Address': '1201 S Figueroa St',\n",
      " 'ZIP': '90015',\n",
      " '_id': ObjectId('67983429af229cce568a2d5f')}\n"
     ]
    }
   ],
   "source": [
    "# review a document in the customer_list collection\n",
    "pprint(db.stations.find_one())"
   ]
  },
  {
   "cell_type": "code",
   "execution_count": 21,
   "id": "1520f03d-6eab-47dc-929c-4ab9f3efab08",
   "metadata": {},
   "outputs": [
    {
     "data": {
      "text/plain": [
       "UpdateResult({'n': 59, 'nModified': 59, 'ok': 1.0, 'updatedExisting': True}, acknowledged=True)"
      ]
     },
     "execution_count": 21,
     "metadata": {},
     "output_type": "execute_result"
    }
   ],
   "source": [
    "stations.update_many({}, [ {'$set': {\n",
    "    \"EV Level1 EVSE Num\" : {'$toInt': \"$EV Level1 EVSE Num\"},\n",
    "    \"EV Level2 EVSE Num\" : {'$toInt': \"$EV Level2 EVSE Num\"},\n",
    "    \"EV DC Fast Count\" : {'$toInt': \"$EV DC Fast Count\"},\n",
    "    \"Latitude\" : {'$toDouble': \"$Latitude\"},\n",
    "    \"Longitude\" : {'$toDouble': \"$Longitude\"}\n",
    "}} ])"
   ]
  },
  {
   "cell_type": "code",
   "execution_count": 27,
   "id": "e919257b-e1ac-496c-a3f1-e237f0f3c05d",
   "metadata": {},
   "outputs": [
    {
     "ename": "RuntimeError",
     "evalue": "Working outside of application context.\n\nThis typically means that you attempted to use functionality that needed\nthe current application. To solve this, set up an application context\nwith app.app_context(). See the documentation for more information.",
     "output_type": "error",
     "traceback": [
      "\u001b[1;31m---------------------------------------------------------------------------\u001b[0m",
      "\u001b[1;31mRuntimeError\u001b[0m                              Traceback (most recent call last)",
      "Cell \u001b[1;32mIn[27], line 1\u001b[0m\n\u001b[1;32m----> 1\u001b[0m jsonify(\u001b[38;5;28mlist\u001b[39m(db\u001b[38;5;241m.\u001b[39mstations\u001b[38;5;241m.\u001b[39mfind({})))\n",
      "File \u001b[1;32m~\\anaconda3\\Lib\\site-packages\\flask\\json\\__init__.py:170\u001b[0m, in \u001b[0;36mjsonify\u001b[1;34m(*args, **kwargs)\u001b[0m\n\u001b[0;32m    138\u001b[0m \u001b[38;5;28;01mdef\u001b[39;00m \u001b[38;5;21mjsonify\u001b[39m(\u001b[38;5;241m*\u001b[39margs: t\u001b[38;5;241m.\u001b[39mAny, \u001b[38;5;241m*\u001b[39m\u001b[38;5;241m*\u001b[39mkwargs: t\u001b[38;5;241m.\u001b[39mAny) \u001b[38;5;241m-\u001b[39m\u001b[38;5;241m>\u001b[39m Response:\n\u001b[0;32m    139\u001b[0m \u001b[38;5;250m    \u001b[39m\u001b[38;5;124;03m\"\"\"Serialize the given arguments as JSON, and return a\u001b[39;00m\n\u001b[0;32m    140\u001b[0m \u001b[38;5;124;03m    :class:`~flask.Response` object with the ``application/json``\u001b[39;00m\n\u001b[0;32m    141\u001b[0m \u001b[38;5;124;03m    mimetype. A dict or list returned from a view will be converted to a\u001b[39;00m\n\u001b[1;32m   (...)\u001b[0m\n\u001b[0;32m    168\u001b[0m \u001b[38;5;124;03m    .. versionadded:: 0.2\u001b[39;00m\n\u001b[0;32m    169\u001b[0m \u001b[38;5;124;03m    \"\"\"\u001b[39;00m\n\u001b[1;32m--> 170\u001b[0m     \u001b[38;5;28;01mreturn\u001b[39;00m current_app\u001b[38;5;241m.\u001b[39mjson\u001b[38;5;241m.\u001b[39mresponse(\u001b[38;5;241m*\u001b[39margs, \u001b[38;5;241m*\u001b[39m\u001b[38;5;241m*\u001b[39mkwargs)\n",
      "File \u001b[1;32m~\\anaconda3\\Lib\\site-packages\\werkzeug\\local.py:318\u001b[0m, in \u001b[0;36m_ProxyLookup.__get__\u001b[1;34m(self, instance, owner)\u001b[0m\n\u001b[0;32m    315\u001b[0m     \u001b[38;5;28;01mreturn\u001b[39;00m \u001b[38;5;28mself\u001b[39m\n\u001b[0;32m    317\u001b[0m \u001b[38;5;28;01mtry\u001b[39;00m:\n\u001b[1;32m--> 318\u001b[0m     obj \u001b[38;5;241m=\u001b[39m instance\u001b[38;5;241m.\u001b[39m_get_current_object()\n\u001b[0;32m    319\u001b[0m \u001b[38;5;28;01mexcept\u001b[39;00m \u001b[38;5;167;01mRuntimeError\u001b[39;00m:\n\u001b[0;32m    320\u001b[0m     \u001b[38;5;28;01mif\u001b[39;00m \u001b[38;5;28mself\u001b[39m\u001b[38;5;241m.\u001b[39mfallback \u001b[38;5;129;01mis\u001b[39;00m \u001b[38;5;28;01mNone\u001b[39;00m:\n",
      "File \u001b[1;32m~\\anaconda3\\Lib\\site-packages\\werkzeug\\local.py:519\u001b[0m, in \u001b[0;36mLocalProxy.__init__.<locals>._get_current_object\u001b[1;34m()\u001b[0m\n\u001b[0;32m    517\u001b[0m     obj \u001b[38;5;241m=\u001b[39m local\u001b[38;5;241m.\u001b[39mget()\n\u001b[0;32m    518\u001b[0m \u001b[38;5;28;01mexcept\u001b[39;00m \u001b[38;5;167;01mLookupError\u001b[39;00m:\n\u001b[1;32m--> 519\u001b[0m     \u001b[38;5;28;01mraise\u001b[39;00m \u001b[38;5;167;01mRuntimeError\u001b[39;00m(unbound_message) \u001b[38;5;28;01mfrom\u001b[39;00m \u001b[38;5;28;01mNone\u001b[39;00m\n\u001b[0;32m    521\u001b[0m \u001b[38;5;28;01mreturn\u001b[39;00m get_name(obj)\n",
      "\u001b[1;31mRuntimeError\u001b[0m: Working outside of application context.\n\nThis typically means that you attempted to use functionality that needed\nthe current application. To solve this, set up an application context\nwith app.app_context(). See the documentation for more information."
     ]
    }
   ],
   "source": [
    "jsonify(list(db.stations.find({})))"
   ]
  }
 ],
 "metadata": {
  "kernelspec": {
   "display_name": "dev",
   "language": "python",
   "name": "dev"
  },
  "language_info": {
   "codemirror_mode": {
    "name": "ipython",
    "version": 3
   },
   "file_extension": ".py",
   "mimetype": "text/x-python",
   "name": "python",
   "nbconvert_exporter": "python",
   "pygments_lexer": "ipython3",
   "version": "3.12.4"
  }
 },
 "nbformat": 4,
 "nbformat_minor": 5
}
