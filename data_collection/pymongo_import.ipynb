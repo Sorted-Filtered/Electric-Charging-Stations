{
 "cells": [
  {
   "cell_type": "code",
   "execution_count": 21,
   "id": "5e4c7b42",
   "metadata": {},
   "outputs": [
    {
     "data": {
      "application/javascript": "IPython.notebook.set_autosave_interval(0)"
     },
     "metadata": {},
     "output_type": "display_data"
    },
    {
     "name": "stdout",
     "output_type": "stream",
     "text": [
      "Autosave disabled\n"
     ]
    }
   ],
   "source": [
    "%autosave 0\n",
    "# this disables autosave for instructor solutions\n",
    "# if a student makes changes to the instructor solutions then the instructor pushes updates this can cause a git conflict"
   ]
  },
  {
   "cell_type": "markdown",
   "id": "6607ba1a",
   "metadata": {},
   "source": [
    "# Import CSV Data Into PyMongo"
   ]
  },
  {
   "cell_type": "code",
   "execution_count": 22,
   "id": "1fce4f22",
   "metadata": {},
   "outputs": [],
   "source": [
    "from pymongo import MongoClient\n",
    "import csv\n",
    "from pprint import pprint\n",
    "from datetime import datetime\n",
    "from flask import jsonify"
   ]
  },
  {
   "cell_type": "code",
   "execution_count": 23,
   "id": "9dc8826d",
   "metadata": {},
   "outputs": [],
   "source": [
    "# Create an instance of MongoClient\n",
    "mongo = MongoClient(port=27017)"
   ]
  },
  {
   "cell_type": "code",
   "execution_count": 24,
   "id": "60ebdfc9",
   "metadata": {},
   "outputs": [
    {
     "name": "stdout",
     "output_type": "stream",
     "text": [
      "['admin', 'classDB', 'config', 'electric_charging', 'epa', 'local', 'met', 'petsitly_marketing', 'uk_food']\n"
     ]
    }
   ],
   "source": [
    "# confirm that our new database was created\n",
    "print(mongo.list_database_names())"
   ]
  },
  {
   "cell_type": "code",
   "execution_count": 25,
   "id": "3cab0c81",
   "metadata": {},
   "outputs": [],
   "source": [
    "# assign the database to a variable name\n",
    "db = mongo['electric_charging']\n",
    "stations = db['stations']"
   ]
  },
  {
   "cell_type": "code",
   "execution_count": 26,
   "id": "3f57b567",
   "metadata": {},
   "outputs": [
    {
     "name": "stdout",
     "output_type": "stream",
     "text": [
      "['stations']\n"
     ]
    }
   ],
   "source": [
    "# review the collections in our new database\n",
    "print(db.list_collection_names())"
   ]
  },
  {
   "cell_type": "code",
   "execution_count": 27,
   "id": "160a59d6-058b-4acc-a954-459434d9f73d",
   "metadata": {},
   "outputs": [
    {
     "data": {
      "text/plain": [
       "{'nIndexesWas': 1, 'ns': 'electric_charging.stations', 'ok': 1.0}"
      ]
     },
     "execution_count": 27,
     "metadata": {},
     "output_type": "execute_result"
    }
   ],
   "source": [
    "db.drop_collection('stations')"
   ]
  },
  {
   "cell_type": "code",
   "execution_count": 28,
   "id": "53f40ec1-358c-420b-b5e5-e917eb52d042",
   "metadata": {},
   "outputs": [],
   "source": [
    "with open('raw_data.csv', 'r', encoding='utf-8-sig') as file:\n",
    "    csv_reader = csv.DictReader(file)\n",
    "    for row in csv_reader:\n",
    "        station = {k: v for k, v in row.items() if v}\n",
    "        \n",
    "        if 'Station Phone' in station:\n",
    "            station['Station Phone'] = row['Station Phone'].split()\n",
    "        if 'EV Connector Types' in station:\n",
    "            station['EV Connector Types'] = station['EV Connector Types'].split()\n",
    "\n",
    "        if 'Open Date' in station:\n",
    "            open_date = datetime.strptime(station['Open Date'], \"%m/%d/%Y\")\n",
    "            station['Open Date'] = open_date.strftime(\"%Y-%m-%d\")\n",
    "\n",
    "        if 'Date Last Confirmed' in station:\n",
    "            last_confirmed = datetime.strptime(station['Date Last Confirmed'], \"%m/%d/%Y\")\n",
    "            station['Date Last Confirmed'] = last_confirmed.strftime(\"%Y-%m-%d\")\n",
    "        \n",
    "        stations.insert_one(station)"
   ]
  },
  {
   "cell_type": "code",
   "execution_count": 29,
   "id": "6360d848",
   "metadata": {},
   "outputs": [
    {
     "name": "stdout",
     "output_type": "stream",
     "text": [
      "{'Access Days Time': '5:30am-9pm; pay lot',\n",
      " 'City': 'Los Angeles',\n",
      " 'Date Last Confirmed': '2023-01-10',\n",
      " 'EV Connector Types': ['J1772'],\n",
      " 'EV Level2 EVSE Num': '7',\n",
      " 'EV Pricing': 'Free; parking fee',\n",
      " 'Facility Type': 'PARKING_GARAGE',\n",
      " 'Latitude': '34.040539',\n",
      " 'Longitude': '-118.271387',\n",
      " 'Open Date': '1995-08-30',\n",
      " 'Owner Type Code': 'P',\n",
      " 'State': 'CA',\n",
      " 'Station Name': 'Los Angeles Convention Center',\n",
      " 'Station Phone': ['213-741-1151'],\n",
      " 'Street Address': '1201 S Figueroa St',\n",
      " 'ZIP': '90015',\n",
      " '_id': ObjectId('67984881253c1e7753f0f174')}\n"
     ]
    }
   ],
   "source": [
    "# review a document in the customer_list collection\n",
    "pprint(db.stations.find_one())"
   ]
  },
  {
   "cell_type": "code",
   "execution_count": 30,
   "id": "1520f03d-6eab-47dc-929c-4ab9f3efab08",
   "metadata": {},
   "outputs": [
    {
     "data": {
      "text/plain": [
       "UpdateResult({'n': 69800, 'nModified': 69800, 'ok': 1.0, 'updatedExisting': True}, acknowledged=True)"
      ]
     },
     "execution_count": 30,
     "metadata": {},
     "output_type": "execute_result"
    }
   ],
   "source": [
    "stations.update_many({}, [ {'$set': {\n",
    "    \"EV Level1 EVSE Num\" : {'$toInt': \"$EV Level1 EVSE Num\"},\n",
    "    \"EV Level2 EVSE Num\" : {'$toInt': \"$EV Level2 EVSE Num\"},\n",
    "    \"EV DC Fast Count\" : {'$toInt': \"$EV DC Fast Count\"},\n",
    "    \"Latitude\" : {'$toDouble': \"$Latitude\"},\n",
    "    \"Longitude\" : {'$toDouble': \"$Longitude\"}\n",
    "}} ])"
   ]
  },
  {
   "cell_type": "code",
   "execution_count": null,
   "id": "14a0a589",
   "metadata": {},
   "outputs": [],
   "source": [
    "# Import Dependencies\n",
    "import folium\n",
    "from folium.plugins import MarkerCluster\n",
    "\n",
    "# Create the map and loop through all results of PyMongo db to create markers in \"MarkerCluster\"\n",
    "map = folium.Map(location=[38, -97], zoom_start=3)\n",
    "ElectricClusterGroup = MarkerCluster().add_to(map)\n",
    "results = db.stations.find()\n",
    "for result in results:\n",
    "    folium.Marker(\n",
    "        location = [result[\"Latitude\"], result[\"Longitude\"]],\n",
    "        popup = result[\"Station Name\"],\n",
    "        icon = folium.Icon(color=\"red\", icon=\"ok-sign\")).add_to(ElectricClusterGroup)\n",
    "\n",
    "# Add a control layer to map\n",
    "folium.LayerControl().add_to(map)\n",
    "\n",
    "# Save the map to an HTML file\n",
    "map.save(\"ev_charger_map.html\")\n",
    "print(\"map saved as ev_charger_map.html\")\n",
    "map"
   ]
  }
 ],
 "metadata": {
  "kernelspec": {
   "display_name": "myenv",
   "language": "python",
   "name": "myenv"
  },
  "language_info": {
   "codemirror_mode": {
    "name": "ipython",
    "version": 3
   },
   "file_extension": ".py",
   "mimetype": "text/x-python",
   "name": "python",
   "nbconvert_exporter": "python",
   "pygments_lexer": "ipython3",
   "version": "3.12.4"
  }
 },
 "nbformat": 4,
 "nbformat_minor": 5
}
